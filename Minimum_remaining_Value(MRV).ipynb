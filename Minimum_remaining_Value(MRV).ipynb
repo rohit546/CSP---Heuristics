{
 "cells": [
  {
   "cell_type": "markdown",
   "id": "3173d196",
   "metadata": {},
   "source": [
    "# MRV"
   ]
  },
  {
   "cell_type": "code",
   "execution_count": 1,
   "id": "cddfa94e",
   "metadata": {},
   "outputs": [
    {
     "name": "stdout",
     "output_type": "stream",
     "text": [
      "Solution:\n",
      "A: 1    E: 4    B: 2    D: 3    C: 4    \n",
      "Time Complexity: 11\n"
     ]
    }
   ],
   "source": [
    "class CSP:\n",
    "    def __init__(self, variables, domains, constraints):\n",
    "        self.variables = variables\n",
    "        self.domains = domains\n",
    "        self.constraints = constraints\n",
    "        self.time_complexity = 0\n",
    " \n",
    "    def is_consistent(self, variable, value, assignment):\n",
    "        for neighbor, constraint in self.constraints.get(variable, []):\n",
    "            if neighbor in assignment:\n",
    "                self.time_complexity += 1  \n",
    "                if not constraint(value, assignment[neighbor]):\n",
    "                    return False\n",
    "        return True\n",
    "\n",
    "    def backtrack_search(self, assignment={}):\n",
    "        if len(assignment) == len(self.variables):\n",
    "            return assignment\n",
    "        \n",
    "        var = self.mrv_heuristic(assignment)\n",
    "        for value in self.domains[var]:\n",
    "            if self.is_consistent(var, value, assignment):\n",
    "                assignment[var] = value\n",
    "                result = self.backtrack_search(assignment)\n",
    "                if result is not None:\n",
    "                    return result\n",
    "                del assignment[var]\n",
    "        return None  \n",
    "    \n",
    "    def mrv_heuristic(self, assignment):\n",
    "        unassigned_variables = [var for var in self.variables if var not in assignment]\n",
    "        return min(unassigned_variables, key=lambda var: len(self.domains[var]))\n",
    "    \n",
    "        \n",
    "variables = ['A', 'B', 'C', 'D', 'E']\n",
    "\n",
    "def different_values_constraint(value1, value2):\n",
    "    return value1 != value2\n",
    "\n",
    "domains = {\n",
    "    'A': ['1'],\n",
    "    'B': ['1', '2'],\n",
    "    'C': ['2', '3', '4'],\n",
    "    'D': ['3', '4'],\n",
    "    'E': ['4']\n",
    "}\n",
    "    \n",
    "constraints = {\n",
    "    'A': [('B', different_values_constraint), ('C', different_values_constraint)],\n",
    "    'B': [('C', different_values_constraint), ('A', different_values_constraint)],\n",
    "    'D': [('C', different_values_constraint), ('E', different_values_constraint)],\n",
    "    'C': [('A', different_values_constraint), ('B', different_values_constraint), ('D', different_values_constraint)],\n",
    "    'E': [('D', different_values_constraint)]\n",
    "}\n",
    "    \n",
    "sol = CSP(variables, domains, constraints)  \n",
    "solution = sol.backtrack_search()   \n",
    "    \n",
    "print(\"Solution:\")\n",
    "for variable, value in solution.items():\n",
    "    print(f\"{variable}: {value}\", end=\"    \")\n",
    "\n",
    "print(\"\\nTime Complexity:\", sol.time_complexity)\n"
   ]
  },
  {
   "cell_type": "code",
   "execution_count": null,
   "id": "a00eb3d6",
   "metadata": {},
   "outputs": [],
   "source": []
  }
 ],
 "metadata": {
  "kernelspec": {
   "display_name": "Python 3 (ipykernel)",
   "language": "python",
   "name": "python3"
  },
  "language_info": {
   "codemirror_mode": {
    "name": "ipython",
    "version": 3
   },
   "file_extension": ".py",
   "mimetype": "text/x-python",
   "name": "python",
   "nbconvert_exporter": "python",
   "pygments_lexer": "ipython3",
   "version": "3.12.2"
  }
 },
 "nbformat": 4,
 "nbformat_minor": 5
}
